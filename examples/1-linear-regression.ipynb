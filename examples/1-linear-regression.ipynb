{
  "nbformat": 4,
  "nbformat_minor": 0,
  "metadata": {
    "colab": {
      "name": "linear-regression.ipynb",
      "version": "0.3.2",
      "provenance": [],
      "collapsed_sections": []
    },
    "kernelspec": {
      "name": "python3",
      "display_name": "Python 3"
    }
  },
  "cells": [
    {
      "metadata": {
        "id": "nG2GQRD78oOd",
        "colab_type": "text"
      },
      "cell_type": "markdown",
      "source": [
        "### y = m * x + b\n",
        "\n",
        "A minimal example of linear regression in TensorFlow 2.0, written from scratch without using any built-in layers, optimizers, or loss functions. We'll create a few points on a scatter plot, then find the best fit line using the equation `y = m * x + b`."
      ]
    },
    {
      "metadata": {
        "id": "_Z7ZBuk95jCb",
        "colab_type": "code",
        "colab": {}
      },
      "cell_type": "code",
      "source": [
        "!pip install -q tensorflow==2.0.0-alpha0"
      ],
      "execution_count": 0,
      "outputs": []
    },
    {
      "metadata": {
        "id": "x8doDs0i5oOU",
        "colab_type": "code",
        "colab": {}
      },
      "cell_type": "code",
      "source": [
        "import pylab\n",
        "import tensorflow as tf\n",
        "\n",
        "from tensorflow.keras import Model"
      ],
      "execution_count": 0,
      "outputs": []
    },
    {
      "metadata": {
        "id": "V2n5vd8i5yCg",
        "colab_type": "text"
      },
      "cell_type": "markdown",
      "source": [
        "Create a noisy dataset that's roughly linear, according to the equation y = m * x + b + noise."
      ]
    },
    {
      "metadata": {
        "id": "mekZMKUW5xQj",
        "colab_type": "code",
        "colab": {}
      },
      "cell_type": "code",
      "source": [
        "def make_noisy_data(m=0.1, b=0.3, n=100):\n",
        "  x = tf.random.uniform(shape=(n,))\n",
        "  noise = tf.random.normal(shape=(len(x),), stddev=0.01)\n",
        "  y = m * x + b + noise\n",
        "  return x, y"
      ],
      "execution_count": 0,
      "outputs": []
    },
    {
      "metadata": {
        "id": "Jsb2XBE5TPNY",
        "colab_type": "code",
        "colab": {}
      },
      "cell_type": "code",
      "source": [
        "x_train, y_train = make_noisy_data()\n",
        "x_test, y_test = make_noisy_data()"
      ],
      "execution_count": 0,
      "outputs": []
    },
    {
      "metadata": {
        "id": "2tSNaq8W52A2",
        "colab_type": "code",
        "colab": {
          "base_uri": "https://localhost:8080/",
          "height": 286
        },
        "outputId": "75ff7a9d-959e-41e8-f282-f00c439bf1ad"
      },
      "cell_type": "code",
      "source": [
        "pylab.plot(x_train, y_train, 'b.')\n",
        "pylab.plot(x_test, y_test, 'g.')"
      ],
      "execution_count": 5,
      "outputs": [
        {
          "output_type": "execute_result",
          "data": {
            "text/plain": [
              "[<matplotlib.lines.Line2D at 0x7f05f680efd0>]"
            ]
          },
          "metadata": {
            "tags": []
          },
          "execution_count": 5
        },
        {
          "output_type": "display_data",
          "data": {
            "image/png": "[encoded data removed]",
            "text/plain": [
              "<Figure size 432x288 with 1 Axes>"
            ]
          },
          "metadata": {
            "tags": []
          }
        }
      ]
    },
    {
      "metadata": {
        "id": "zpzVrkNhI3y5",
        "colab_type": "text"
      },
      "cell_type": "markdown",
      "source": [
        "Define variables for our model. "
      ]
    },
    {
      "metadata": {
        "id": "mwoChE9N5-aE",
        "colab_type": "code",
        "colab": {}
      },
      "cell_type": "code",
      "source": [
        "m = tf.Variable(0.)\n",
        "b = tf.Variable(0.)"
      ],
      "execution_count": 0,
      "outputs": []
    },
    {
      "metadata": {
        "id": "0SEZq4GhJV5d",
        "colab_type": "text"
      },
      "cell_type": "markdown",
      "source": [
        "Predict y given x."
      ]
    },
    {
      "metadata": {
        "id": "TslVztFY7uQT",
        "colab_type": "code",
        "colab": {}
      },
      "cell_type": "code",
      "source": [
        "def predict(x):\n",
        "  y = m * x + b\n",
        "  return y"
      ],
      "execution_count": 0,
      "outputs": []
    },
    {
      "metadata": {
        "id": "cJW-r9JEJi1i",
        "colab_type": "text"
      },
      "cell_type": "markdown",
      "source": [
        "Our loss will be the squared difference between the predicted values and the true values."
      ]
    },
    {
      "metadata": {
        "id": "eTmFCjZX7JGV",
        "colab_type": "code",
        "colab": {}
      },
      "cell_type": "code",
      "source": [
        "def squared_error(y_pred, y_true):\n",
        "  return tf.reduce_mean(tf.square(y_pred - y_true)) "
      ],
      "execution_count": 0,
      "outputs": []
    },
    {
      "metadata": {
        "id": "WVDFLZBrBikA",
        "colab_type": "text"
      },
      "cell_type": "markdown",
      "source": [
        "Calculate loss for the training data, before training."
      ]
    },
    {
      "metadata": {
        "id": "25EhTz5QBkYS",
        "colab_type": "code",
        "colab": {
          "base_uri": "https://localhost:8080/",
          "height": 34
        },
        "outputId": "6fec76bf-924b-456f-eb3e-07095603f1d7"
      },
      "cell_type": "code",
      "source": [
        "loss = squared_error(predict(x_train), y_train)\n",
        "print(\"Starting loss\", loss.numpy())"
      ],
      "execution_count": 9,
      "outputs": [
        {
          "output_type": "stream",
          "text": [
            "Starting loss 0.12728466\n"
          ],
          "name": "stdout"
        }
      ]
    },
    {
      "metadata": {
        "id": "WjHGdac1EWj6",
        "colab_type": "text"
      },
      "cell_type": "markdown",
      "source": [
        "Use gradient descent to gradually improve our guess for `m` and `b`. At each step, we'll nudge them a little bit in the right direction to reduce the loss."
      ]
    },
    {
      "metadata": {
        "id": "Qp6QFVQD6xB_",
        "colab_type": "code",
        "colab": {
          "base_uri": "https://localhost:8080/",
          "height": 187
        },
        "outputId": "63b681b9-090f-40f0-f9ff-e3ed09cc88f3"
      },
      "cell_type": "code",
      "source": [
        "learning_rate = 0.05\n",
        "steps = 200\n",
        "\n",
        "for i in range(steps):\n",
        "  \n",
        "  with tf.GradientTape() as tape:\n",
        "    predictions = predict(x_train)\n",
        "    loss = squared_error(predictions, y_train)\n",
        "    \n",
        "  gradients = tape.gradient(loss, [m, b])\n",
        "  \n",
        "  m.assign_sub(gradients[0] * learning_rate)\n",
        "  b.assign_sub(gradients[1] * learning_rate)\n",
        "  \n",
        "  if i % 20 == 0:    \n",
        "    print(\"Step %d, Loss %f\" % (i, loss.numpy()))"
      ],
      "execution_count": 10,
      "outputs": [
        {
          "output_type": "stream",
          "text": [
            "Step 0, Loss 0.127285\n",
            "Step 20, Loss 0.000721\n",
            "Step 40, Loss 0.000244\n",
            "Step 60, Loss 0.000203\n",
            "Step 80, Loss 0.000173\n",
            "Step 100, Loss 0.000150\n",
            "Step 120, Loss 0.000133\n",
            "Step 140, Loss 0.000119\n",
            "Step 160, Loss 0.000108\n",
            "Step 180, Loss 0.000100\n"
          ],
          "name": "stdout"
        }
      ]
    },
    {
      "metadata": {
        "id": "J4lPk7ZC87kU",
        "colab_type": "text"
      },
      "cell_type": "markdown",
      "source": [
        "The learned values for m and b."
      ]
    },
    {
      "metadata": {
        "id": "qVsdtuyp6-aP",
        "colab_type": "code",
        "colab": {
          "base_uri": "https://localhost:8080/",
          "height": 34
        },
        "outputId": "6cb5805a-c7ff-406e-bd38-48e305229587"
      },
      "cell_type": "code",
      "source": [
        "print (\"m: %f, b: %f\" % (m.numpy(), b.numpy()))\n"
      ],
      "execution_count": 11,
      "outputs": [
        {
          "output_type": "stream",
          "text": [
            "m: 0.115868, b: 0.290819\n"
          ],
          "name": "stdout"
        }
      ]
    },
    {
      "metadata": {
        "id": "Ra6bq2rV_19Z",
        "colab_type": "text"
      },
      "cell_type": "markdown",
      "source": [
        "Plot the best fit line."
      ]
    },
    {
      "metadata": {
        "id": "rBvBWPgO_3wy",
        "colab_type": "code",
        "colab": {
          "base_uri": "https://localhost:8080/",
          "height": 286
        },
        "outputId": "e7f61897-ad15-4f8e-ac79-e6720cc4c246"
      },
      "cell_type": "code",
      "source": [
        "pylab.plot(x_train, y_train, 'b.')\n",
        "pylab.plot(x_train, predict(x_train))"
      ],
      "execution_count": 12,
      "outputs": [
        {
          "output_type": "execute_result",
          "data": {
            "text/plain": [
              "[<matplotlib.lines.Line2D at 0x7f05f2f57f98>]"
            ]
          },
          "metadata": {
            "tags": []
          },
          "execution_count": 12
        },
        {
          "output_type": "display_data",
          "data": {
            "image/png": "[encoded data removed]",
            "text/plain": [
              "<Figure size 432x288 with 1 Axes>"
            ]
          },
          "metadata": {
            "tags": []
          }
        }
      ]
    },
    {
      "metadata": {
        "id": "SIikRd5kDQSp",
        "colab_type": "text"
      },
      "cell_type": "markdown",
      "source": [
        "A couple things you can explore:\n",
        "\n",
        "* To understand gradient descent, try printing out the `gradients` calculated below. See how they're used to adjust the variables (`m` and `b`).\n",
        "\n",
        "* You can use TF 2.0 a lot like NumPy.  Try printing out the training data we created (`x_train`, `y_train`) and understand the format. Next, do the same for the variables (m and b). Notice both of these can be converted to NumPy format (with `.numpy()`).\n",
        "\n",
        "* As a short exercise, see if you can print the loss and best fit line for the testing data."
      ]
    }
  ]
}